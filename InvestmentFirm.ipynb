{
 "cells": [
  {
   "cell_type": "markdown",
   "id": "865dda5c-6f97-477c-a0b6-1e9c9852a3bd",
   "metadata": {},
   "source": [
    "# Project Overview\n",
    "For this project, I'm assuming the role of a **Data Scientist / Data Analyst** at a new startup investment firm. My goal is to help customers invest their money in stocks. My main task will be to **extract financial data, like historical share prices and quarterly revenue reports, from various sources**. I'll be using **Python libraries and web scraping** techniques on popular stocks, specifically Tesla, Amazon, AMD, and GameStop. After I collect this data, I'll visualize it in a **dashboard** to identify any patterns or trends.\n",
    "\n",
    "## Dashboard Analytics Displayed\n",
    "A key part of this project involves dashboards, which are great for clearly displaying **key performance indicators (KPIs)**. I'll be practicing how to **analyze datasets and extract these important KPIs**. The prompts throughout the course will guide me in accessing and displaying data on these dashboards. Learning how to present KPIs effectively on a dashboard is a core part of this assignment. For data visualization, I'll be using Plotly."
   ]
  },
  {
   "cell_type": "markdown",
   "id": "bc384c30-ea63-443d-8f53-7a456c056017",
   "metadata": {},
   "source": [
    "## Stock Shares\n",
    "\n",
    "A company's stock share is, fundamentally, a segment of that company; to be precise, a stock **(also recognized as equity)** serves as a security that signifies the ownership of a fractional part of a corporation. This ownership grants the proprietor of the stock a proportion of the corporation's assets and profits that aligns with the extent of their stock holdings. Individual increments of stock are termed **\"shares\"**.\n",
    "\n",
    "Someone who invests their money can buy a stock and then sell it later. **If the stock's price goes up, that person makes a profit (they earn money). But if the price goes down, they'll face a loss (they lose money)**. Figuring out a stock's price is quite complicated. Its value depends on things like how many shares of the company are available, how much money the company is expected to make in the future, and many other factors. People buy and sell stocks all day long. **The stock ticker is like a live update of a stock's price**, continuously refreshed throughout the day by the different places where stocks are traded, called **stock exchanges**. In this exercise, I'll be using something called the y-finance API to get these stock updates and pull out information about the stock. After that, I'll be asked some questions about what I found.\n"
   ]
  },
  {
   "cell_type": "code",
   "execution_count": null,
   "id": "ae27df14-d047-4a93-9912-c81db19e3be3",
   "metadata": {},
   "outputs": [],
   "source": [
    "!pip install yfinance\n",
    "!pip install matplotlib\n",
    "# !pip install pandas==1.3.3\n",
    "import yfinance as yf\n",
    "import pandas as pd"
   ]
  },
  {
   "cell_type": "markdown",
   "id": "c4f5c38b-93d3-4207-8869-9881ded8346d",
   "metadata": {},
   "source": [
    "### Using the yfinance Library to Extract Stock Data\n",
    "Using the Ticker module we can create an object that will allow us to access functions to extract data. To do this we need to provide the ticker symbol for the stock, here the company is Apple and the ticker symbol is AAPL."
   ]
  },
  {
   "cell_type": "code",
   "execution_count": 3,
   "id": "4fc3fbbc-08e6-4109-b260-26a15f43ae9b",
   "metadata": {},
   "outputs": [
    {
     "ename": "NameError",
     "evalue": "name 'yf' is not defined",
     "output_type": "error",
     "traceback": [
      "\u001b[1;31m---------------------------------------------------------------------------\u001b[0m",
      "\u001b[1;31mNameError\u001b[0m                                 Traceback (most recent call last)",
      "Cell \u001b[1;32mIn[3], line 1\u001b[0m\n\u001b[1;32m----> 1\u001b[0m apple \u001b[38;5;241m=\u001b[39m \u001b[43myf\u001b[49m\u001b[38;5;241m.\u001b[39mTicker(\u001b[38;5;124m\"\u001b[39m\u001b[38;5;124mAAPL\u001b[39m\u001b[38;5;124m\"\u001b[39m)\n",
      "\u001b[1;31mNameError\u001b[0m: name 'yf' is not defined"
     ]
    }
   ],
   "source": [
    "apple = yf.Ticker(\"AAPL\")"
   ]
  },
  {
   "cell_type": "markdown",
   "id": "86ec684a-f597-438b-8502-36808edfefae",
   "metadata": {},
   "source": [
    "Now we can access functions and variables to extract the type of data we need. You can view them and what they represent here https://aroussi.com/post/python-yahoo-finance."
   ]
  },
  {
   "cell_type": "code",
   "execution_count": 4,
   "id": "d98568d7-0803-4ad2-bec8-c8dc7d1014cb",
   "metadata": {},
   "outputs": [
    {
     "name": "stderr",
     "output_type": "stream",
     "text": [
      "'wget' is not recognized as an internal or external command,\n",
      "operable program or batch file.\n"
     ]
    }
   ],
   "source": [
    "!wget https://cf-courses-data.s3.us.cloud-object-storage.appdomain.cloud/IBMDeveloperSkillsNetwork-PY0220EN-SkillsNetwork/data/apple.json"
   ]
  },
  {
   "cell_type": "markdown",
   "id": "04d0f3a6-75f9-4874-9808-b69389dbb963",
   "metadata": {},
   "source": [
    "### Stock info"
   ]
  },
  {
   "cell_type": "code",
   "execution_count": null,
   "id": "c3c9c70e-212f-49a6-9b6a-7a396aa04053",
   "metadata": {},
   "outputs": [],
   "source": []
  }
 ],
 "metadata": {
  "kernelspec": {
   "display_name": "Python 3 (ipykernel)",
   "language": "python",
   "name": "python3"
  },
  "language_info": {
   "codemirror_mode": {
    "name": "ipython",
    "version": 3
   },
   "file_extension": ".py",
   "mimetype": "text/x-python",
   "name": "python",
   "nbconvert_exporter": "python",
   "pygments_lexer": "ipython3",
   "version": "3.10.0"
  }
 },
 "nbformat": 4,
 "nbformat_minor": 5
}
